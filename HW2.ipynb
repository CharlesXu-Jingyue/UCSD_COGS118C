{
 "cells": [
  {
   "cell_type": "code",
   "execution_count": 2,
   "id": "1b359adc",
   "metadata": {},
   "outputs": [],
   "source": [
    "import numpy as np\n",
    "import pandas as pd\n",
    "import matplotlib.pyplot as plt\n",
    "from scipy import stats"
   ]
  },
  {
   "cell_type": "code",
   "execution_count": 3,
   "id": "43d4713b",
   "metadata": {},
   "outputs": [
    {
     "data": {
      "text/html": [
       "<div>\n",
       "<style scoped>\n",
       "    .dataframe tbody tr th:only-of-type {\n",
       "        vertical-align: middle;\n",
       "    }\n",
       "\n",
       "    .dataframe tbody tr th {\n",
       "        vertical-align: top;\n",
       "    }\n",
       "\n",
       "    .dataframe thead th {\n",
       "        text-align: right;\n",
       "    }\n",
       "</style>\n",
       "<table border=\"1\" class=\"dataframe\">\n",
       "  <thead>\n",
       "    <tr style=\"text-align: right;\">\n",
       "      <th></th>\n",
       "      <th>0</th>\n",
       "      <th>1</th>\n",
       "      <th>2</th>\n",
       "      <th>3</th>\n",
       "      <th>4</th>\n",
       "      <th>5</th>\n",
       "      <th>6</th>\n",
       "      <th>7</th>\n",
       "      <th>8</th>\n",
       "      <th>9</th>\n",
       "      <th>10</th>\n",
       "      <th>11</th>\n",
       "      <th>12</th>\n",
       "      <th>13</th>\n",
       "      <th>14</th>\n",
       "      <th>15</th>\n",
       "      <th>16</th>\n",
       "      <th>17</th>\n",
       "      <th>18</th>\n",
       "      <th>19</th>\n",
       "    </tr>\n",
       "  </thead>\n",
       "  <tbody>\n",
       "    <tr>\n",
       "      <th>0</th>\n",
       "      <td>0.53767</td>\n",
       "      <td>1.833900</td>\n",
       "      <td>-2.258800</td>\n",
       "      <td>0.86217</td>\n",
       "      <td>0.31877</td>\n",
       "      <td>-1.307700</td>\n",
       "      <td>-0.433590</td>\n",
       "      <td>0.34262</td>\n",
       "      <td>3.578400</td>\n",
       "      <td>2.76940</td>\n",
       "      <td>-1.34990</td>\n",
       "      <td>3.034900</td>\n",
       "      <td>0.72540</td>\n",
       "      <td>-0.063055</td>\n",
       "      <td>0.714740</td>\n",
       "      <td>-0.20497</td>\n",
       "      <td>-0.124140</td>\n",
       "      <td>1.48970</td>\n",
       "      <td>1.409000</td>\n",
       "      <td>1.417200</td>\n",
       "    </tr>\n",
       "    <tr>\n",
       "      <th>1</th>\n",
       "      <td>0.67150</td>\n",
       "      <td>-1.207500</td>\n",
       "      <td>0.717240</td>\n",
       "      <td>1.63020</td>\n",
       "      <td>0.48889</td>\n",
       "      <td>1.034700</td>\n",
       "      <td>0.726890</td>\n",
       "      <td>-0.30344</td>\n",
       "      <td>0.293870</td>\n",
       "      <td>-0.78728</td>\n",
       "      <td>0.88840</td>\n",
       "      <td>-1.147100</td>\n",
       "      <td>-1.06890</td>\n",
       "      <td>-0.809500</td>\n",
       "      <td>-2.944300</td>\n",
       "      <td>1.43840</td>\n",
       "      <td>0.325190</td>\n",
       "      <td>-0.75493</td>\n",
       "      <td>1.370300</td>\n",
       "      <td>-1.711500</td>\n",
       "    </tr>\n",
       "    <tr>\n",
       "      <th>2</th>\n",
       "      <td>-0.10224</td>\n",
       "      <td>-0.241450</td>\n",
       "      <td>0.319210</td>\n",
       "      <td>0.31286</td>\n",
       "      <td>-0.86488</td>\n",
       "      <td>-0.030051</td>\n",
       "      <td>-0.164880</td>\n",
       "      <td>0.62771</td>\n",
       "      <td>1.093300</td>\n",
       "      <td>1.10930</td>\n",
       "      <td>-0.86365</td>\n",
       "      <td>0.077359</td>\n",
       "      <td>-1.21410</td>\n",
       "      <td>-1.113500</td>\n",
       "      <td>-0.006849</td>\n",
       "      <td>1.53260</td>\n",
       "      <td>-0.769670</td>\n",
       "      <td>0.37138</td>\n",
       "      <td>-0.225580</td>\n",
       "      <td>1.117400</td>\n",
       "    </tr>\n",
       "    <tr>\n",
       "      <th>3</th>\n",
       "      <td>-1.08910</td>\n",
       "      <td>0.032557</td>\n",
       "      <td>0.552530</td>\n",
       "      <td>1.10060</td>\n",
       "      <td>1.54420</td>\n",
       "      <td>0.085931</td>\n",
       "      <td>-1.491600</td>\n",
       "      <td>-0.74230</td>\n",
       "      <td>-1.061600</td>\n",
       "      <td>2.35050</td>\n",
       "      <td>-0.61560</td>\n",
       "      <td>0.748080</td>\n",
       "      <td>-0.19242</td>\n",
       "      <td>0.888610</td>\n",
       "      <td>-0.764850</td>\n",
       "      <td>-1.40230</td>\n",
       "      <td>-1.422400</td>\n",
       "      <td>0.48819</td>\n",
       "      <td>-0.177380</td>\n",
       "      <td>-0.196050</td>\n",
       "    </tr>\n",
       "    <tr>\n",
       "      <th>4</th>\n",
       "      <td>1.41930</td>\n",
       "      <td>0.291580</td>\n",
       "      <td>0.197810</td>\n",
       "      <td>1.58770</td>\n",
       "      <td>-0.80447</td>\n",
       "      <td>0.696620</td>\n",
       "      <td>0.835090</td>\n",
       "      <td>-0.24372</td>\n",
       "      <td>0.215670</td>\n",
       "      <td>-1.16580</td>\n",
       "      <td>-1.14800</td>\n",
       "      <td>0.104870</td>\n",
       "      <td>0.72225</td>\n",
       "      <td>2.585500</td>\n",
       "      <td>-0.666890</td>\n",
       "      <td>0.18733</td>\n",
       "      <td>-0.082494</td>\n",
       "      <td>-1.93300</td>\n",
       "      <td>-0.438970</td>\n",
       "      <td>-1.794700</td>\n",
       "    </tr>\n",
       "    <tr>\n",
       "      <th>...</th>\n",
       "      <td>...</td>\n",
       "      <td>...</td>\n",
       "      <td>...</td>\n",
       "      <td>...</td>\n",
       "      <td>...</td>\n",
       "      <td>...</td>\n",
       "      <td>...</td>\n",
       "      <td>...</td>\n",
       "      <td>...</td>\n",
       "      <td>...</td>\n",
       "      <td>...</td>\n",
       "      <td>...</td>\n",
       "      <td>...</td>\n",
       "      <td>...</td>\n",
       "      <td>...</td>\n",
       "      <td>...</td>\n",
       "      <td>...</td>\n",
       "      <td>...</td>\n",
       "      <td>...</td>\n",
       "      <td>...</td>\n",
       "    </tr>\n",
       "    <tr>\n",
       "      <th>196</th>\n",
       "      <td>0.92949</td>\n",
       "      <td>1.793000</td>\n",
       "      <td>-1.183200</td>\n",
       "      <td>-0.11118</td>\n",
       "      <td>-0.65677</td>\n",
       "      <td>1.879700</td>\n",
       "      <td>-0.896080</td>\n",
       "      <td>1.33150</td>\n",
       "      <td>-0.624570</td>\n",
       "      <td>0.77668</td>\n",
       "      <td>-1.32430</td>\n",
       "      <td>1.500300</td>\n",
       "      <td>-2.20290</td>\n",
       "      <td>0.322510</td>\n",
       "      <td>0.421000</td>\n",
       "      <td>-0.82070</td>\n",
       "      <td>-0.966460</td>\n",
       "      <td>0.60935</td>\n",
       "      <td>-1.036200</td>\n",
       "      <td>-0.028238</td>\n",
       "    </tr>\n",
       "    <tr>\n",
       "      <th>197</th>\n",
       "      <td>-2.81980</td>\n",
       "      <td>-2.081000</td>\n",
       "      <td>-0.044753</td>\n",
       "      <td>1.11800</td>\n",
       "      <td>-1.64950</td>\n",
       "      <td>0.678670</td>\n",
       "      <td>0.494320</td>\n",
       "      <td>-0.58847</td>\n",
       "      <td>-0.023925</td>\n",
       "      <td>2.19130</td>\n",
       "      <td>-1.40060</td>\n",
       "      <td>0.480100</td>\n",
       "      <td>0.20755</td>\n",
       "      <td>0.322080</td>\n",
       "      <td>-0.005881</td>\n",
       "      <td>0.28139</td>\n",
       "      <td>-0.251340</td>\n",
       "      <td>-1.69350</td>\n",
       "      <td>-0.584020</td>\n",
       "      <td>0.234440</td>\n",
       "    </tr>\n",
       "    <tr>\n",
       "      <th>198</th>\n",
       "      <td>0.25879</td>\n",
       "      <td>0.603660</td>\n",
       "      <td>2.221000</td>\n",
       "      <td>-1.65410</td>\n",
       "      <td>0.68041</td>\n",
       "      <td>0.135830</td>\n",
       "      <td>-0.037987</td>\n",
       "      <td>-0.69314</td>\n",
       "      <td>-0.127530</td>\n",
       "      <td>0.68036</td>\n",
       "      <td>0.42621</td>\n",
       "      <td>-1.605700</td>\n",
       "      <td>0.90621</td>\n",
       "      <td>0.249510</td>\n",
       "      <td>1.894200</td>\n",
       "      <td>-1.11240</td>\n",
       "      <td>-0.722040</td>\n",
       "      <td>-1.75220</td>\n",
       "      <td>0.003612</td>\n",
       "      <td>0.995140</td>\n",
       "    </tr>\n",
       "    <tr>\n",
       "      <th>199</th>\n",
       "      <td>-0.47897</td>\n",
       "      <td>-0.519100</td>\n",
       "      <td>-0.294660</td>\n",
       "      <td>-0.16055</td>\n",
       "      <td>1.02350</td>\n",
       "      <td>0.015895</td>\n",
       "      <td>-0.482660</td>\n",
       "      <td>0.63467</td>\n",
       "      <td>-1.364400</td>\n",
       "      <td>0.59862</td>\n",
       "      <td>-0.20650</td>\n",
       "      <td>2.139400</td>\n",
       "      <td>-0.64881</td>\n",
       "      <td>0.423590</td>\n",
       "      <td>0.117870</td>\n",
       "      <td>-1.08080</td>\n",
       "      <td>0.875530</td>\n",
       "      <td>-2.22630</td>\n",
       "      <td>-1.946100</td>\n",
       "      <td>-1.309600</td>\n",
       "    </tr>\n",
       "    <tr>\n",
       "      <th>200</th>\n",
       "      <td>1.30560</td>\n",
       "      <td>0.983970</td>\n",
       "      <td>-1.251400</td>\n",
       "      <td>-0.17975</td>\n",
       "      <td>-0.74341</td>\n",
       "      <td>0.233240</td>\n",
       "      <td>2.101300</td>\n",
       "      <td>-0.87667</td>\n",
       "      <td>1.948800</td>\n",
       "      <td>-0.46527</td>\n",
       "      <td>-0.65192</td>\n",
       "      <td>0.609630</td>\n",
       "      <td>0.70912</td>\n",
       "      <td>0.279800</td>\n",
       "      <td>-1.467500</td>\n",
       "      <td>-0.69132</td>\n",
       "      <td>-0.867990</td>\n",
       "      <td>-0.51251</td>\n",
       "      <td>-0.782090</td>\n",
       "      <td>0.425790</td>\n",
       "    </tr>\n",
       "  </tbody>\n",
       "</table>\n",
       "<p>201 rows × 20 columns</p>\n",
       "</div>"
      ],
      "text/plain": [
       "          0         1         2        3        4         5         6   \\\n",
       "0    0.53767  1.833900 -2.258800  0.86217  0.31877 -1.307700 -0.433590   \n",
       "1    0.67150 -1.207500  0.717240  1.63020  0.48889  1.034700  0.726890   \n",
       "2   -0.10224 -0.241450  0.319210  0.31286 -0.86488 -0.030051 -0.164880   \n",
       "3   -1.08910  0.032557  0.552530  1.10060  1.54420  0.085931 -1.491600   \n",
       "4    1.41930  0.291580  0.197810  1.58770 -0.80447  0.696620  0.835090   \n",
       "..       ...       ...       ...      ...      ...       ...       ...   \n",
       "196  0.92949  1.793000 -1.183200 -0.11118 -0.65677  1.879700 -0.896080   \n",
       "197 -2.81980 -2.081000 -0.044753  1.11800 -1.64950  0.678670  0.494320   \n",
       "198  0.25879  0.603660  2.221000 -1.65410  0.68041  0.135830 -0.037987   \n",
       "199 -0.47897 -0.519100 -0.294660 -0.16055  1.02350  0.015895 -0.482660   \n",
       "200  1.30560  0.983970 -1.251400 -0.17975 -0.74341  0.233240  2.101300   \n",
       "\n",
       "          7         8        9        10        11       12        13  \\\n",
       "0    0.34262  3.578400  2.76940 -1.34990  3.034900  0.72540 -0.063055   \n",
       "1   -0.30344  0.293870 -0.78728  0.88840 -1.147100 -1.06890 -0.809500   \n",
       "2    0.62771  1.093300  1.10930 -0.86365  0.077359 -1.21410 -1.113500   \n",
       "3   -0.74230 -1.061600  2.35050 -0.61560  0.748080 -0.19242  0.888610   \n",
       "4   -0.24372  0.215670 -1.16580 -1.14800  0.104870  0.72225  2.585500   \n",
       "..       ...       ...      ...      ...       ...      ...       ...   \n",
       "196  1.33150 -0.624570  0.77668 -1.32430  1.500300 -2.20290  0.322510   \n",
       "197 -0.58847 -0.023925  2.19130 -1.40060  0.480100  0.20755  0.322080   \n",
       "198 -0.69314 -0.127530  0.68036  0.42621 -1.605700  0.90621  0.249510   \n",
       "199  0.63467 -1.364400  0.59862 -0.20650  2.139400 -0.64881  0.423590   \n",
       "200 -0.87667  1.948800 -0.46527 -0.65192  0.609630  0.70912  0.279800   \n",
       "\n",
       "           14       15        16       17        18        19  \n",
       "0    0.714740 -0.20497 -0.124140  1.48970  1.409000  1.417200  \n",
       "1   -2.944300  1.43840  0.325190 -0.75493  1.370300 -1.711500  \n",
       "2   -0.006849  1.53260 -0.769670  0.37138 -0.225580  1.117400  \n",
       "3   -0.764850 -1.40230 -1.422400  0.48819 -0.177380 -0.196050  \n",
       "4   -0.666890  0.18733 -0.082494 -1.93300 -0.438970 -1.794700  \n",
       "..        ...      ...       ...      ...       ...       ...  \n",
       "196  0.421000 -0.82070 -0.966460  0.60935 -1.036200 -0.028238  \n",
       "197 -0.005881  0.28139 -0.251340 -1.69350 -0.584020  0.234440  \n",
       "198  1.894200 -1.11240 -0.722040 -1.75220  0.003612  0.995140  \n",
       "199  0.117870 -1.08080  0.875530 -2.22630 -1.946100 -1.309600  \n",
       "200 -1.467500 -0.69132 -0.867990 -0.51251 -0.782090  0.425790  \n",
       "\n",
       "[201 rows x 20 columns]"
      ]
     },
     "execution_count": 3,
     "metadata": {},
     "output_type": "execute_result"
    }
   ],
   "source": [
    "eeg = pd.read_csv('hw2.csv', header=None)\n",
    "eeg"
   ]
  },
  {
   "cell_type": "markdown",
   "id": "39e4f9b2",
   "metadata": {},
   "source": [
    "**a. F<sub>s</sub> = 20 Hz**"
   ]
  },
  {
   "cell_type": "code",
   "execution_count": 4,
   "id": "993a1d13",
   "metadata": {},
   "outputs": [
    {
     "data": {
      "text/plain": [
       "120    0.98399\n",
       "Name: 0, dtype: float64"
      ]
     },
     "execution_count": 4,
     "metadata": {},
     "output_type": "execute_result"
    },
    {
     "data": {
      "image/png": "[encoded data removed]",
      "text/plain": [
       "<Figure size 432x288 with 1 Axes>"
      ]
     },
     "metadata": {
      "needs_background": "light"
     },
     "output_type": "display_data"
    }
   ],
   "source": [
    "t_series = np.arange(-100,101)/20\n",
    "\n",
    "plt.plot(t_series, eeg.loc[:,0])\n",
    "plt.xlabel('Time (s)')\n",
    "plt.ylabel('Voltage $\\mu$V')\n",
    "plt.title('EEG First trial')\n",
    "eeg.loc[t_series==1,0]"
   ]
  },
  {
   "cell_type": "markdown",
   "id": "89d07379",
   "metadata": {},
   "source": [
    "**b. Plot is shown above. Voltage is 0.98 $\\mu$V at t = 1 s.**"
   ]
  },
  {
   "cell_type": "code",
   "execution_count": 5,
   "id": "39db5b4d",
   "metadata": {},
   "outputs": [
    {
     "data": {
      "text/plain": [
       "120   -0.255491\n",
       "dtype: float64"
      ]
     },
     "execution_count": 5,
     "metadata": {},
     "output_type": "execute_result"
    },
    {
     "data": {
      "image/png": "[encoded data removed]",
      "text/plain": [
       "<Figure size 432x288 with 1 Axes>"
      ]
     },
     "metadata": {
      "needs_background": "light"
     },
     "output_type": "display_data"
    }
   ],
   "source": [
    "erp = eeg.mean(axis=1)\n",
    "plt.plot(t_series, erp)\n",
    "plt.xlabel('Time (s)')\n",
    "plt.ylabel('Voltage $\\mu$V')\n",
    "plt.title('ERP')\n",
    "erp[t_series==1]"
   ]
  },
  {
   "cell_type": "markdown",
   "id": "24276edd",
   "metadata": {},
   "source": [
    "**c. The ERP value is -0.26 $\\mu$V at t = 1 s.**"
   ]
  },
  {
   "cell_type": "code",
   "execution_count": 6,
   "id": "89699b4c",
   "metadata": {},
   "outputs": [
    {
     "data": {
      "text/plain": [
       "(-1.105648339233261, 0.28268287719997626)"
      ]
     },
     "execution_count": 6,
     "metadata": {},
     "output_type": "execute_result"
    }
   ],
   "source": [
    "statistic, pvalue = stats.ttest_1samp(eeg.loc[t_series=0,:], 0)\n",
    "statistic, pvalue"
   ]
  },
  {
   "cell_type": "markdown",
   "id": "451cb7b8",
   "metadata": {},
   "source": [
    "**d. The p-value is 0.28, the t statistic is -1.11.**"
   ]
  },
  {
   "cell_type": "code",
   "execution_count": 7,
   "id": "a067a5fc",
   "metadata": {},
   "outputs": [
    {
     "data": {
      "text/plain": [
       "Text(0.5, 1.0, 'p-values')"
      ]
     },
     "execution_count": 7,
     "metadata": {},
     "output_type": "execute_result"
    },
    {
     "data": {
      "image/png": "[encoded data removed]",
      "text/plain": [
       "<Figure size 432x288 with 1 Axes>"
      ]
     },
     "metadata": {
      "needs_background": "light"
     },
     "output_type": "display_data"
    }
   ],
   "source": [
    "pvalue_all = np.zeros(np.shape(eeg)[0])\n",
    "\n",
    "for i in np.arange(np.shape(eeg)[0]):\n",
    "    _, pvalue_all[i] = stats.ttest_1samp(eeg.loc[i,:], 0)\n",
    "\n",
    "plt.plot(t_series, pvalue_all)\n",
    "plt.yscale('log')\n",
    "plt.hlines(0.05, t_series[0], t_series[-1])\n",
    "plt.xlabel('Time (s)')\n",
    "plt.ylabel('Log p-value')\n",
    "plt.title('p-values')"
   ]
  },
  {
   "cell_type": "markdown",
   "id": "5e3fde18",
   "metadata": {},
   "source": [
    "**e. Plot is shown above.**"
   ]
  },
  {
   "cell_type": "code",
   "execution_count": 8,
   "id": "9bf9577a",
   "metadata": {},
   "outputs": [
    {
     "data": {
      "text/plain": [
       "6"
      ]
     },
     "execution_count": 8,
     "metadata": {},
     "output_type": "execute_result"
    }
   ],
   "source": [
    "np.sum(pvalue_all[t_series<0]<0.05)"
   ]
  },
  {
   "cell_type": "markdown",
   "id": "6aafd93c",
   "metadata": {},
   "source": [
    "**f. 6 of the 100 pre-stimulus points have a significant ERP.**"
   ]
  },
  {
   "cell_type": "code",
   "execution_count": 9,
   "id": "7fda67bd",
   "metadata": {},
   "outputs": [
    {
     "data": {
      "text/plain": [
       "31"
      ]
     },
     "execution_count": 9,
     "metadata": {},
     "output_type": "execute_result"
    }
   ],
   "source": [
    "np.sum(pvalue_all[t_series>0]<0.05)"
   ]
  },
  {
   "cell_type": "markdown",
   "id": "7de1d780",
   "metadata": {},
   "source": [
    "**g. 31 of the 100 post-stimulus points have a significant ERP.**"
   ]
  },
  {
   "cell_type": "markdown",
   "id": "aad15b37",
   "metadata": {},
   "source": [
    "**h. Both are greater than the number of \"false positives\" you would expect from the null hypothesis. This result is unexpected for the 100 pre-stimulus time points because no significant ERP is expected to occur before the stimulus onset; this is expected for the 100 post-stimulus time points because a significant ERP is expected after the stimulus.**"
   ]
  },
  {
   "cell_type": "code",
   "execution_count": 10,
   "id": "93c54053",
   "metadata": {},
   "outputs": [
    {
     "data": {
      "text/plain": [
       "0.0002487562189054727"
      ]
     },
     "execution_count": 10,
     "metadata": {},
     "output_type": "execute_result"
    }
   ],
   "source": [
    "alpha_corrected = 0.05/np.shape(eeg)[0]\n",
    "alpha_corrected"
   ]
  },
  {
   "cell_type": "markdown",
   "id": "4defc7f9",
   "metadata": {},
   "source": [
    "**i. The Bonferroni-corrected threshold is 0.00025.**"
   ]
  },
  {
   "cell_type": "code",
   "execution_count": 11,
   "id": "eb76a752",
   "metadata": {},
   "outputs": [
    {
     "name": "stdout",
     "output_type": "stream",
     "text": [
      "0\n",
      "6\n"
     ]
    }
   ],
   "source": [
    "print(np.sum(pvalue_all[t_series<0]<alpha_corrected))\n",
    "print(np.sum(pvalue_all[t_series>0]<alpha_corrected))"
   ]
  },
  {
   "cell_type": "markdown",
   "id": "a34e64e3",
   "metadata": {},
   "source": [
    "**j. 0 and 6 time points are significant pre- and post-stimulus.**"
   ]
  },
  {
   "cell_type": "code",
   "execution_count": 12,
   "id": "77b5cef5",
   "metadata": {},
   "outputs": [
    {
     "data": {
      "text/html": [
       "<div>\n",
       "<style scoped>\n",
       "    .dataframe tbody tr th:only-of-type {\n",
       "        vertical-align: middle;\n",
       "    }\n",
       "\n",
       "    .dataframe tbody tr th {\n",
       "        vertical-align: top;\n",
       "    }\n",
       "\n",
       "    .dataframe thead th {\n",
       "        text-align: right;\n",
       "    }\n",
       "</style>\n",
       "<table border=\"1\" class=\"dataframe\">\n",
       "  <thead>\n",
       "    <tr style=\"text-align: right;\">\n",
       "      <th></th>\n",
       "      <th>0</th>\n",
       "      <th>1</th>\n",
       "      <th>2</th>\n",
       "      <th>3</th>\n",
       "      <th>4</th>\n",
       "      <th>5</th>\n",
       "      <th>6</th>\n",
       "      <th>7</th>\n",
       "      <th>8</th>\n",
       "      <th>9</th>\n",
       "      <th>10</th>\n",
       "      <th>11</th>\n",
       "      <th>12</th>\n",
       "      <th>13</th>\n",
       "      <th>14</th>\n",
       "      <th>15</th>\n",
       "      <th>16</th>\n",
       "      <th>17</th>\n",
       "      <th>18</th>\n",
       "      <th>19</th>\n",
       "    </tr>\n",
       "  </thead>\n",
       "  <tbody>\n",
       "    <tr>\n",
       "      <th>0</th>\n",
       "      <td>0.53767</td>\n",
       "      <td>1.833900</td>\n",
       "      <td>-2.258800</td>\n",
       "      <td>0.86217</td>\n",
       "      <td>0.31877</td>\n",
       "      <td>-1.307700</td>\n",
       "      <td>-0.433590</td>\n",
       "      <td>0.34262</td>\n",
       "      <td>3.578400</td>\n",
       "      <td>2.76940</td>\n",
       "      <td>-1.34990</td>\n",
       "      <td>3.034900</td>\n",
       "      <td>0.72540</td>\n",
       "      <td>-0.063055</td>\n",
       "      <td>0.714740</td>\n",
       "      <td>-0.20497</td>\n",
       "      <td>-0.124140</td>\n",
       "      <td>1.48970</td>\n",
       "      <td>1.409000</td>\n",
       "      <td>1.417200</td>\n",
       "    </tr>\n",
       "    <tr>\n",
       "      <th>1</th>\n",
       "      <td>0.67150</td>\n",
       "      <td>-1.207500</td>\n",
       "      <td>0.717240</td>\n",
       "      <td>1.63020</td>\n",
       "      <td>0.48889</td>\n",
       "      <td>1.034700</td>\n",
       "      <td>0.726890</td>\n",
       "      <td>-0.30344</td>\n",
       "      <td>0.293870</td>\n",
       "      <td>-0.78728</td>\n",
       "      <td>0.88840</td>\n",
       "      <td>-1.147100</td>\n",
       "      <td>-1.06890</td>\n",
       "      <td>-0.809500</td>\n",
       "      <td>-2.944300</td>\n",
       "      <td>1.43840</td>\n",
       "      <td>0.325190</td>\n",
       "      <td>-0.75493</td>\n",
       "      <td>1.370300</td>\n",
       "      <td>-1.711500</td>\n",
       "    </tr>\n",
       "    <tr>\n",
       "      <th>2</th>\n",
       "      <td>-0.10224</td>\n",
       "      <td>-0.241450</td>\n",
       "      <td>0.319210</td>\n",
       "      <td>0.31286</td>\n",
       "      <td>-0.86488</td>\n",
       "      <td>-0.030051</td>\n",
       "      <td>-0.164880</td>\n",
       "      <td>0.62771</td>\n",
       "      <td>1.093300</td>\n",
       "      <td>1.10930</td>\n",
       "      <td>-0.86365</td>\n",
       "      <td>0.077359</td>\n",
       "      <td>-1.21410</td>\n",
       "      <td>-1.113500</td>\n",
       "      <td>-0.006849</td>\n",
       "      <td>1.53260</td>\n",
       "      <td>-0.769670</td>\n",
       "      <td>0.37138</td>\n",
       "      <td>-0.225580</td>\n",
       "      <td>1.117400</td>\n",
       "    </tr>\n",
       "    <tr>\n",
       "      <th>3</th>\n",
       "      <td>-1.08910</td>\n",
       "      <td>0.032557</td>\n",
       "      <td>0.552530</td>\n",
       "      <td>1.10060</td>\n",
       "      <td>1.54420</td>\n",
       "      <td>0.085931</td>\n",
       "      <td>-1.491600</td>\n",
       "      <td>-0.74230</td>\n",
       "      <td>-1.061600</td>\n",
       "      <td>2.35050</td>\n",
       "      <td>-0.61560</td>\n",
       "      <td>0.748080</td>\n",
       "      <td>-0.19242</td>\n",
       "      <td>0.888610</td>\n",
       "      <td>-0.764850</td>\n",
       "      <td>-1.40230</td>\n",
       "      <td>-1.422400</td>\n",
       "      <td>0.48819</td>\n",
       "      <td>-0.177380</td>\n",
       "      <td>-0.196050</td>\n",
       "    </tr>\n",
       "    <tr>\n",
       "      <th>4</th>\n",
       "      <td>1.41930</td>\n",
       "      <td>0.291580</td>\n",
       "      <td>0.197810</td>\n",
       "      <td>1.58770</td>\n",
       "      <td>-0.80447</td>\n",
       "      <td>0.696620</td>\n",
       "      <td>0.835090</td>\n",
       "      <td>-0.24372</td>\n",
       "      <td>0.215670</td>\n",
       "      <td>-1.16580</td>\n",
       "      <td>-1.14800</td>\n",
       "      <td>0.104870</td>\n",
       "      <td>0.72225</td>\n",
       "      <td>2.585500</td>\n",
       "      <td>-0.666890</td>\n",
       "      <td>0.18733</td>\n",
       "      <td>-0.082494</td>\n",
       "      <td>-1.93300</td>\n",
       "      <td>-0.438970</td>\n",
       "      <td>-1.794700</td>\n",
       "    </tr>\n",
       "    <tr>\n",
       "      <th>...</th>\n",
       "      <td>...</td>\n",
       "      <td>...</td>\n",
       "      <td>...</td>\n",
       "      <td>...</td>\n",
       "      <td>...</td>\n",
       "      <td>...</td>\n",
       "      <td>...</td>\n",
       "      <td>...</td>\n",
       "      <td>...</td>\n",
       "      <td>...</td>\n",
       "      <td>...</td>\n",
       "      <td>...</td>\n",
       "      <td>...</td>\n",
       "      <td>...</td>\n",
       "      <td>...</td>\n",
       "      <td>...</td>\n",
       "      <td>...</td>\n",
       "      <td>...</td>\n",
       "      <td>...</td>\n",
       "      <td>...</td>\n",
       "    </tr>\n",
       "    <tr>\n",
       "      <th>196</th>\n",
       "      <td>0.92949</td>\n",
       "      <td>1.793000</td>\n",
       "      <td>-1.183200</td>\n",
       "      <td>-0.11118</td>\n",
       "      <td>-0.65677</td>\n",
       "      <td>1.879700</td>\n",
       "      <td>-0.896080</td>\n",
       "      <td>1.33150</td>\n",
       "      <td>-0.624570</td>\n",
       "      <td>0.77668</td>\n",
       "      <td>-1.32430</td>\n",
       "      <td>1.500300</td>\n",
       "      <td>-2.20290</td>\n",
       "      <td>0.322510</td>\n",
       "      <td>0.421000</td>\n",
       "      <td>-0.82070</td>\n",
       "      <td>-0.966460</td>\n",
       "      <td>0.60935</td>\n",
       "      <td>-1.036200</td>\n",
       "      <td>-0.028238</td>\n",
       "    </tr>\n",
       "    <tr>\n",
       "      <th>197</th>\n",
       "      <td>-2.81980</td>\n",
       "      <td>-2.081000</td>\n",
       "      <td>-0.044753</td>\n",
       "      <td>1.11800</td>\n",
       "      <td>-1.64950</td>\n",
       "      <td>0.678670</td>\n",
       "      <td>0.494320</td>\n",
       "      <td>-0.58847</td>\n",
       "      <td>-0.023925</td>\n",
       "      <td>2.19130</td>\n",
       "      <td>-1.40060</td>\n",
       "      <td>0.480100</td>\n",
       "      <td>0.20755</td>\n",
       "      <td>0.322080</td>\n",
       "      <td>-0.005881</td>\n",
       "      <td>0.28139</td>\n",
       "      <td>-0.251340</td>\n",
       "      <td>-1.69350</td>\n",
       "      <td>-0.584020</td>\n",
       "      <td>0.234440</td>\n",
       "    </tr>\n",
       "    <tr>\n",
       "      <th>198</th>\n",
       "      <td>0.25879</td>\n",
       "      <td>0.603660</td>\n",
       "      <td>2.221000</td>\n",
       "      <td>-1.65410</td>\n",
       "      <td>0.68041</td>\n",
       "      <td>0.135830</td>\n",
       "      <td>-0.037987</td>\n",
       "      <td>-0.69314</td>\n",
       "      <td>-0.127530</td>\n",
       "      <td>0.68036</td>\n",
       "      <td>0.42621</td>\n",
       "      <td>-1.605700</td>\n",
       "      <td>0.90621</td>\n",
       "      <td>0.249510</td>\n",
       "      <td>1.894200</td>\n",
       "      <td>-1.11240</td>\n",
       "      <td>-0.722040</td>\n",
       "      <td>-1.75220</td>\n",
       "      <td>0.003612</td>\n",
       "      <td>0.995140</td>\n",
       "    </tr>\n",
       "    <tr>\n",
       "      <th>199</th>\n",
       "      <td>-0.47897</td>\n",
       "      <td>-0.519100</td>\n",
       "      <td>-0.294660</td>\n",
       "      <td>-0.16055</td>\n",
       "      <td>1.02350</td>\n",
       "      <td>0.015895</td>\n",
       "      <td>-0.482660</td>\n",
       "      <td>0.63467</td>\n",
       "      <td>-1.364400</td>\n",
       "      <td>0.59862</td>\n",
       "      <td>-0.20650</td>\n",
       "      <td>2.139400</td>\n",
       "      <td>-0.64881</td>\n",
       "      <td>0.423590</td>\n",
       "      <td>0.117870</td>\n",
       "      <td>-1.08080</td>\n",
       "      <td>0.875530</td>\n",
       "      <td>-2.22630</td>\n",
       "      <td>-1.946100</td>\n",
       "      <td>-1.309600</td>\n",
       "    </tr>\n",
       "    <tr>\n",
       "      <th>200</th>\n",
       "      <td>1.30560</td>\n",
       "      <td>0.983970</td>\n",
       "      <td>-1.251400</td>\n",
       "      <td>-0.17975</td>\n",
       "      <td>-0.74341</td>\n",
       "      <td>0.233240</td>\n",
       "      <td>2.101300</td>\n",
       "      <td>-0.87667</td>\n",
       "      <td>1.948800</td>\n",
       "      <td>-0.46527</td>\n",
       "      <td>-0.65192</td>\n",
       "      <td>0.609630</td>\n",
       "      <td>0.70912</td>\n",
       "      <td>0.279800</td>\n",
       "      <td>-1.467500</td>\n",
       "      <td>-0.69132</td>\n",
       "      <td>-0.867990</td>\n",
       "      <td>-0.51251</td>\n",
       "      <td>-0.782090</td>\n",
       "      <td>0.425790</td>\n",
       "    </tr>\n",
       "  </tbody>\n",
       "</table>\n",
       "<p>201 rows × 20 columns</p>\n",
       "</div>"
      ],
      "text/plain": [
       "          0         1         2        3        4         5         6   \\\n",
       "0    0.53767  1.833900 -2.258800  0.86217  0.31877 -1.307700 -0.433590   \n",
       "1    0.67150 -1.207500  0.717240  1.63020  0.48889  1.034700  0.726890   \n",
       "2   -0.10224 -0.241450  0.319210  0.31286 -0.86488 -0.030051 -0.164880   \n",
       "3   -1.08910  0.032557  0.552530  1.10060  1.54420  0.085931 -1.491600   \n",
       "4    1.41930  0.291580  0.197810  1.58770 -0.80447  0.696620  0.835090   \n",
       "..       ...       ...       ...      ...      ...       ...       ...   \n",
       "196  0.92949  1.793000 -1.183200 -0.11118 -0.65677  1.879700 -0.896080   \n",
       "197 -2.81980 -2.081000 -0.044753  1.11800 -1.64950  0.678670  0.494320   \n",
       "198  0.25879  0.603660  2.221000 -1.65410  0.68041  0.135830 -0.037987   \n",
       "199 -0.47897 -0.519100 -0.294660 -0.16055  1.02350  0.015895 -0.482660   \n",
       "200  1.30560  0.983970 -1.251400 -0.17975 -0.74341  0.233240  2.101300   \n",
       "\n",
       "          7         8        9        10        11       12        13  \\\n",
       "0    0.34262  3.578400  2.76940 -1.34990  3.034900  0.72540 -0.063055   \n",
       "1   -0.30344  0.293870 -0.78728  0.88840 -1.147100 -1.06890 -0.809500   \n",
       "2    0.62771  1.093300  1.10930 -0.86365  0.077359 -1.21410 -1.113500   \n",
       "3   -0.74230 -1.061600  2.35050 -0.61560  0.748080 -0.19242  0.888610   \n",
       "4   -0.24372  0.215670 -1.16580 -1.14800  0.104870  0.72225  2.585500   \n",
       "..       ...       ...      ...      ...       ...      ...       ...   \n",
       "196  1.33150 -0.624570  0.77668 -1.32430  1.500300 -2.20290  0.322510   \n",
       "197 -0.58847 -0.023925  2.19130 -1.40060  0.480100  0.20755  0.322080   \n",
       "198 -0.69314 -0.127530  0.68036  0.42621 -1.605700  0.90621  0.249510   \n",
       "199  0.63467 -1.364400  0.59862 -0.20650  2.139400 -0.64881  0.423590   \n",
       "200 -0.87667  1.948800 -0.46527 -0.65192  0.609630  0.70912  0.279800   \n",
       "\n",
       "           14       15        16       17        18        19  \n",
       "0    0.714740 -0.20497 -0.124140  1.48970  1.409000  1.417200  \n",
       "1   -2.944300  1.43840  0.325190 -0.75493  1.370300 -1.711500  \n",
       "2   -0.006849  1.53260 -0.769670  0.37138 -0.225580  1.117400  \n",
       "3   -0.764850 -1.40230 -1.422400  0.48819 -0.177380 -0.196050  \n",
       "4   -0.666890  0.18733 -0.082494 -1.93300 -0.438970 -1.794700  \n",
       "..        ...      ...       ...      ...       ...       ...  \n",
       "196  0.421000 -0.82070 -0.966460  0.60935 -1.036200 -0.028238  \n",
       "197 -0.005881  0.28139 -0.251340 -1.69350 -0.584020  0.234440  \n",
       "198  1.894200 -1.11240 -0.722040 -1.75220  0.003612  0.995140  \n",
       "199  0.117870 -1.08080  0.875530 -2.22630 -1.946100 -1.309600  \n",
       "200 -1.467500 -0.69132 -0.867990 -0.51251 -0.782090  0.425790  \n",
       "\n",
       "[201 rows x 20 columns]"
      ]
     },
     "execution_count": 12,
     "metadata": {},
     "output_type": "execute_result"
    }
   ],
   "source": [
    "eeg"
   ]
  },
  {
   "cell_type": "code",
   "execution_count": 25,
   "id": "42a26e62",
   "metadata": {},
   "outputs": [
    {
     "data": {
      "text/plain": [
       "0     6.2217\n",
       "1     5.1229\n",
       "2     4.9922\n",
       "3     5.5246\n",
       "4     4.7512\n",
       "5     5.2581\n",
       "6     5.3847\n",
       "7     4.4991\n",
       "8     5.4973\n",
       "9     5.1089\n",
       "10    5.8156\n",
       "11    4.9229\n",
       "12    5.8165\n",
       "13    5.5504\n",
       "14    5.2163\n",
       "15    5.9123\n",
       "16    5.1940\n",
       "17    5.3130\n",
       "18    6.5630\n",
       "19    5.6421\n",
       "dtype: float64"
      ]
     },
     "execution_count": 25,
     "metadata": {},
     "output_type": "execute_result"
    }
   ],
   "source": [
    "np.max(eeg[t_series>0])-np.min(eeg[t_series>0])"
   ]
  },
  {
   "cell_type": "code",
   "execution_count": 26,
   "id": "258746fc",
   "metadata": {},
   "outputs": [
    {
     "data": {
      "text/plain": [
       "37"
      ]
     },
     "execution_count": 26,
     "metadata": {},
     "output_type": "execute_result"
    }
   ],
   "source": [
    "np.sum(pvalue_all<0.05)"
   ]
  },
  {
   "cell_type": "code",
   "execution_count": null,
   "id": "b2879392",
   "metadata": {},
   "outputs": [],
   "source": []
  }
 ],
 "metadata": {
  "kernelspec": {
   "display_name": "Python 3",
   "language": "python",
   "name": "python3"
  },
  "language_info": {
   "codemirror_mode": {
    "name": "ipython",
    "version": 3
   },
   "file_extension": ".py",
   "mimetype": "text/x-python",
   "name": "python",
   "nbconvert_exporter": "python",
   "pygments_lexer": "ipython3",
   "version": "3.8.8"
  }
 },
 "nbformat": 4,
 "nbformat_minor": 5
}
