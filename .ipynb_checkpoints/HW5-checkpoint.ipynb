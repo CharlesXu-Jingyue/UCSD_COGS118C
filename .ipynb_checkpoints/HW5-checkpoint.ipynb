{
 "cells": [
  {
   "cell_type": "code",
   "execution_count": 37,
   "id": "095d1fe7",
   "metadata": {},
   "outputs": [],
   "source": [
    "import pandas as pd\n",
    "import numpy as np\n",
    "import scipy as sp\n",
    "from scipy import signal\n",
    "import matplotlib.pyplot as plt"
   ]
  },
  {
   "cell_type": "code",
   "execution_count": 11,
   "id": "517f81ff",
   "metadata": {},
   "outputs": [
    {
     "name": "stdout",
     "output_type": "stream",
     "text": [
      "(375000,)\n",
      "0    1.36840\n",
      "1    3.83230\n",
      "2    3.58290\n",
      "3    1.57000\n",
      "4   -0.33448\n",
      "Name: 0, dtype: float64\n"
     ]
    }
   ],
   "source": [
    "url='https://www.dropbox.com/s/x3798tawhz5mlq3/HW5_anesthesia_record_125Hz.csv?dl=1'\n",
    "data=pd.read_csv(url,header=None)[0]\n",
    "print(data.shape)\n",
    "print(data.head())"
   ]
  },
  {
   "cell_type": "code",
   "execution_count": 23,
   "id": "26fc4fcb",
   "metadata": {},
   "outputs": [
    {
     "data": {
      "text/plain": [
       "28.889515648159993"
      ]
     },
     "execution_count": 23,
     "metadata": {},
     "output_type": "execute_result"
    }
   ],
   "source": [
    "np.average(data[0:int(data.shape[0]*60/3000)]**2)"
   ]
  },
  {
   "cell_type": "code",
   "execution_count": 22,
   "id": "8e3a47bf",
   "metadata": {},
   "outputs": [
    {
     "name": "stdout",
     "output_type": "stream",
     "text": [
      "125.0\n"
     ]
    }
   ],
   "source": [
    "Fs = data.shape[0]/3000\n",
    "print(Fs)"
   ]
  },
  {
   "cell_type": "code",
   "execution_count": 27,
   "id": "4fd2f227",
   "metadata": {},
   "outputs": [
    {
     "data": {
      "text/plain": [
       "1237.397136444217"
      ]
     },
     "execution_count": 27,
     "metadata": {},
     "output_type": "execute_result"
    }
   ],
   "source": [
    "np.average(data[-int(data.shape[0]*60/3000)-1:-1]**2)"
   ]
  },
  {
   "cell_type": "code",
   "execution_count": 43,
   "id": "fc463753",
   "metadata": {},
   "outputs": [
    {
     "data": {
      "text/plain": [
       "[<matplotlib.lines.Line2D at 0x7fd89abebd30>]"
      ]
     },
     "execution_count": 43,
     "metadata": {},
     "output_type": "execute_result"
    },
    {
     "data": {
      "image/png": "[encoded data removed]",
      "text/plain": [
       "<Figure size 432x288 with 1 Axes>"
      ]
     },
     "metadata": {
      "needs_background": "light"
     },
     "output_type": "display_data"
    }
   ],
   "source": [
    "f,t,S = sp.signal.stft(data, fs=Fs, nperseg=600)\n",
    "plt.plot(f)"
   ]
  },
  {
   "cell_type": "code",
   "execution_count": null,
   "id": "749bbd7b",
   "metadata": {},
   "outputs": [],
   "source": []
  }
 ],
 "metadata": {
  "kernelspec": {
   "display_name": "Python 3",
   "language": "python",
   "name": "python3"
  },
  "language_info": {
   "codemirror_mode": {
    "name": "ipython",
    "version": 3
   },
   "file_extension": ".py",
   "mimetype": "text/x-python",
   "name": "python",
   "nbconvert_exporter": "python",
   "pygments_lexer": "ipython3",
   "version": "3.8.8"
  }
 },
 "nbformat": 4,
 "nbformat_minor": 5
}
