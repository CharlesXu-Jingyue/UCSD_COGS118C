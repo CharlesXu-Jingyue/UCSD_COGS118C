{
 "cells": [
  {
   "cell_type": "code",
   "execution_count": 131,
   "id": "80f873b8",
   "metadata": {},
   "outputs": [],
   "source": [
    "import numpy as np\n",
    "import pandas as pd\n",
    "import math\n",
    "import functools\n",
    "import operator\n",
    "import itertools\n",
    "from scipy.stats import poisson"
   ]
  },
  {
   "cell_type": "code",
   "execution_count": 121,
   "id": "28dda935",
   "metadata": {},
   "outputs": [
    {
     "data": {
      "text/plain": [
       "0     529117365\n",
       "1     390965105\n",
       "2     374061888\n",
       "3     326627740\n",
       "4     320410057\n",
       "5     313720540\n",
       "6     294300210\n",
       "7     277000841\n",
       "8     216768975\n",
       "9     183996130\n",
       "10    169330528\n",
       "11    138416451\n",
       "12    117295780\n",
       "13    110504544\n",
       "14     95422055\n",
       "15     91258980\n",
       "16     90376747\n",
       "17     79843664\n",
       "18     75294515\n",
       "19     70195826\n",
       "20     46337161\n",
       "21     35373464\n",
       "22      9613410\n",
       "23      8369915\n",
       "24      4975847\n",
       "25      4550166\n",
       "Name: 1, dtype: int64"
      ]
     },
     "execution_count": 121,
     "metadata": {},
     "output_type": "execute_result"
    }
   ],
   "source": [
    "monogram = pd.read_table('english_monograms.txt', header=None, delim_whitespace=True)\n",
    "bigram = pd.read_csv('english_bigrams_1.txt', header=None, delim_whitespace=True)\n",
    "words = pd.read_csv('english_words.txt', header=None, delim_whitespace=True)\n",
    "monogram[1]"
   ]
  },
  {
   "cell_type": "code",
   "execution_count": 122,
   "id": "2a30b08e",
   "metadata": {},
   "outputs": [],
   "source": [
    "def compute_entropy(table):\n",
    "    grams = table[0]\n",
    "    freqs = table[1]\n",
    "    \n",
    "    total = sum(freqs)\n",
    "    \n",
    "    # Compute the entropy\n",
    "    entropy = 0\n",
    "    for freq in freqs:\n",
    "        p = freq / total\n",
    "        entropy -= p * math.log2(p)\n",
    "    \n",
    "    return entropy\n"
   ]
  },
  {
   "cell_type": "code",
   "execution_count": 123,
   "id": "eb6e9c3a",
   "metadata": {},
   "outputs": [
    {
     "name": "stdout",
     "output_type": "stream",
     "text": [
      "4.184600828019136\n",
      "7.843215598838259\n"
     ]
    }
   ],
   "source": [
    "print(compute_entropy(monogram))\n",
    "print(compute_entropy(bigram))"
   ]
  },
  {
   "cell_type": "code",
   "execution_count": 127,
   "id": "40690815",
   "metadata": {},
   "outputs": [
    {
     "name": "stderr",
     "output_type": "stream",
     "text": [
      "<ipython-input-127-2be15da60ae4>:11: SettingWithCopyWarning: \n",
      "A value is trying to be set on a copy of a slice from a DataFrame\n",
      "\n",
      "See the caveats in the documentation: https://pandas.pydata.org/pandas-docs/stable/user_guide/indexing.html#returning-a-view-versus-a-copy\n",
      "  bigram_random[1][i] = np.prod(bigram_allp[i])\n",
      "<ipython-input-127-2be15da60ae4>:10: SettingWithCopyWarning: \n",
      "A value is trying to be set on a copy of a slice from a DataFrame\n",
      "\n",
      "See the caveats in the documentation: https://pandas.pydata.org/pandas-docs/stable/user_guide/indexing.html#returning-a-view-versus-a-copy\n",
      "  bigram_random[0][i] = ''.join(bigram_all[i])\n"
     ]
    },
    {
     "data": {
      "text/html": [
       "<div>\n",
       "<style scoped>\n",
       "    .dataframe tbody tr th:only-of-type {\n",
       "        vertical-align: middle;\n",
       "    }\n",
       "\n",
       "    .dataframe tbody tr th {\n",
       "        vertical-align: top;\n",
       "    }\n",
       "\n",
       "    .dataframe thead th {\n",
       "        text-align: right;\n",
       "    }\n",
       "</style>\n",
       "<table border=\"1\" class=\"dataframe\">\n",
       "  <thead>\n",
       "    <tr style=\"text-align: right;\">\n",
       "      <th></th>\n",
       "      <th>0</th>\n",
       "      <th>1</th>\n",
       "    </tr>\n",
       "  </thead>\n",
       "  <tbody>\n",
       "    <tr>\n",
       "      <th>0</th>\n",
       "      <td>EE</td>\n",
       "      <td>0.014633</td>\n",
       "    </tr>\n",
       "    <tr>\n",
       "      <th>1</th>\n",
       "      <td>ET</td>\n",
       "      <td>0.010812</td>\n",
       "    </tr>\n",
       "    <tr>\n",
       "      <th>2</th>\n",
       "      <td>EA</td>\n",
       "      <td>0.010345</td>\n",
       "    </tr>\n",
       "    <tr>\n",
       "      <th>3</th>\n",
       "      <td>EO</td>\n",
       "      <td>0.009033</td>\n",
       "    </tr>\n",
       "    <tr>\n",
       "      <th>4</th>\n",
       "      <td>EI</td>\n",
       "      <td>0.008861</td>\n",
       "    </tr>\n",
       "    <tr>\n",
       "      <th>...</th>\n",
       "      <td>...</td>\n",
       "      <td>...</td>\n",
       "    </tr>\n",
       "    <tr>\n",
       "      <th>671</th>\n",
       "      <td>QK</td>\n",
       "      <td>0.000008</td>\n",
       "    </tr>\n",
       "    <tr>\n",
       "      <th>672</th>\n",
       "      <td>QJ</td>\n",
       "      <td>0.000002</td>\n",
       "    </tr>\n",
       "    <tr>\n",
       "      <th>673</th>\n",
       "      <td>QX</td>\n",
       "      <td>0.000002</td>\n",
       "    </tr>\n",
       "    <tr>\n",
       "      <th>674</th>\n",
       "      <td>QZ</td>\n",
       "      <td>0.000001</td>\n",
       "    </tr>\n",
       "    <tr>\n",
       "      <th>675</th>\n",
       "      <td>QQ</td>\n",
       "      <td>0.000001</td>\n",
       "    </tr>\n",
       "  </tbody>\n",
       "</table>\n",
       "<p>676 rows × 2 columns</p>\n",
       "</div>"
      ],
      "text/plain": [
       "      0         1\n",
       "0    EE  0.014633\n",
       "1    ET  0.010812\n",
       "2    EA  0.010345\n",
       "3    EO  0.009033\n",
       "4    EI  0.008861\n",
       "..   ..       ...\n",
       "671  QK  0.000008\n",
       "672  QJ  0.000002\n",
       "673  QX  0.000002\n",
       "674  QZ  0.000001\n",
       "675  QQ  0.000001\n",
       "\n",
       "[676 rows x 2 columns]"
      ]
     },
     "execution_count": 127,
     "metadata": {},
     "output_type": "execute_result"
    }
   ],
   "source": [
    "# Generate bigram probabilities from monogram\n",
    "monogram_p = pd.DataFrame(np.zeros(np.shape(monogram)))\n",
    "monogram_p[0] = monogram[0]\n",
    "monogram_p[1] = monogram[1]/sum(monogram[1])\n",
    "\n",
    "bigram_random = pd.DataFrame(np.zeros([26**2,2]))\n",
    "bigram_all = [p for p in itertools.product(monogram_p[0], repeat=2)]\n",
    "bigram_allp = [p for p in itertools.product(monogram_p[1], repeat=2)]\n",
    "for i in range(0,26**2):\n",
    "    bigram_random[0][i] = ''.join(bigram_all[i])\n",
    "    bigram_random[1][i] = np.prod(bigram_allp[i])\n",
    "\n",
    "bigram_random"
   ]
  },
  {
   "cell_type": "code",
   "execution_count": 128,
   "id": "21ab75dc",
   "metadata": {},
   "outputs": [
    {
     "name": "stdout",
     "output_type": "stream",
     "text": [
      "8.369201656038285\n"
     ]
    }
   ],
   "source": [
    "print(compute_entropy(bigram_random))"
   ]
  },
  {
   "cell_type": "code",
   "execution_count": 209,
   "id": "897cc90e",
   "metadata": {},
   "outputs": [
    {
     "name": "stdout",
     "output_type": "stream",
     "text": [
      "0.009900498337491681\n",
      "0.009900498337491688\n",
      "4.9667913340267766e-05\n",
      "0.04756147122503571\n",
      "0.0574619695625274\n"
     ]
    }
   ],
   "source": [
    "print(math.e**(-0.01)*0.01)\n",
    "print(poisson.pmf(1, 0.01))\n",
    "print(1-poisson.cdf(k=1, mu=0.01))\n",
    "print(poisson.pmf(1, 0.05))\n",
    "print(poisson.pmf(1, 0.01) + poisson.pmf(1, 0.05))"
   ]
  },
  {
   "cell_type": "code",
   "execution_count": 210,
   "id": "571e1b01",
   "metadata": {},
   "outputs": [
    {
     "data": {
      "text/plain": [
       "1.1782748705776316"
      ]
     },
     "execution_count": 210,
     "metadata": {},
     "output_type": "execute_result"
    }
   ],
   "source": [
    "joint_prob = [poisson.pmf(1, 0.05)/2, poisson.pmf(1, 0.01)/2, poisson.pmf(0, 0.05)/2, poisson.pmf(0, 0.01)/2]\n",
    "joint_entropy = -sum([p * math.log2(p) for p in joint_prob])\n",
    "joint_entropy"
   ]
  },
  {
   "cell_type": "code",
   "execution_count": 219,
   "id": "bbd207cd",
   "metadata": {},
   "outputs": [
    {
     "name": "stdout",
     "output_type": "stream",
     "text": [
      "0.1888685804483239 1.0\n"
     ]
    }
   ],
   "source": [
    "pn0 = poisson.pmf(0, 0.05)/2 + poisson.pmf(0, 0.01)/2\n",
    "pn1 = poisson.pmf(1, 0.05)/2 + poisson.pmf(1, 0.01)/2\n",
    "px1 = 0.5\n",
    "px2 = 0.5\n",
    "hn = -sum([p * math.log2(p) for p in [pn0, pn1]])\n",
    "hx = -sum([p * math.log2(p) for p in [px1, px2]])\n",
    "print(hn, hx)"
   ]
  },
  {
   "cell_type": "code",
   "execution_count": 212,
   "id": "f1f9d055",
   "metadata": {},
   "outputs": [
    {
     "name": "stdout",
     "output_type": "stream",
     "text": [
      "0.010593709870692303\n"
     ]
    }
   ],
   "source": [
    "mi = hn + hx - joint_entropy\n",
    "print(mi)"
   ]
  },
  {
   "cell_type": "code",
   "execution_count": 213,
   "id": "d396c959",
   "metadata": {},
   "outputs": [
    {
     "name": "stdout",
     "output_type": "stream",
     "text": [
      "1.210690290525888\n"
     ]
    }
   ],
   "source": [
    "n12 = pd.DataFrame(np.zeros([4,2]))\n",
    "n12[0] = [poisson.pmf(0, 0.025)*poisson.pmf(0, 0.025)/2, poisson.pmf(0, 0.025)*poisson.pmf(1, 0.025)/2,\n",
    "         poisson.pmf(1, 0.025)*poisson.pmf(0, 0.025)/2, poisson.pmf(1, 0.025)*poisson.pmf(1, 0.025)/2]\n",
    "n12[1] = [poisson.pmf(0, 0.005)*poisson.pmf(0, 0.005)/2, poisson.pmf(0, 0.005)*poisson.pmf(1, 0.005)/2,\n",
    "         poisson.pmf(1, 0.005)*poisson.pmf(0, 0.005)/2, poisson.pmf(1, 0.005)*poisson.pmf(1, 0.005)/2]\n",
    "hn12 = -sum([p * math.log2(p) for p in n12[0]])-sum([p * math.log2(p) for p in n12[1]])\n",
    "print(hn12)"
   ]
  },
  {
   "cell_type": "code",
   "execution_count": 214,
   "id": "da92431f",
   "metadata": {},
   "outputs": [
    {
     "data": {
      "text/plain": [
       "0.2212090230986569"
      ]
     },
     "execution_count": 214,
     "metadata": {},
     "output_type": "execute_result"
    }
   ],
   "source": [
    "n12_marg = np.sum(n12, axis = 1)\n",
    "hn12_marg = -sum([p * math.log2(p) for p in n12_marg])\n",
    "hn12_marg"
   ]
  },
  {
   "cell_type": "code",
   "execution_count": 215,
   "id": "5a6d2c2d",
   "metadata": {},
   "outputs": [
    {
     "name": "stdout",
     "output_type": "stream",
     "text": [
      "0.010518732572768918\n"
     ]
    }
   ],
   "source": [
    "mi_n12 = hn12_marg + hx - hn12\n",
    "print(mi_n12)"
   ]
  },
  {
   "cell_type": "code",
   "execution_count": 220,
   "id": "26472ae0",
   "metadata": {},
   "outputs": [
    {
     "data": {
      "text/plain": [
       "0.0287309847812637"
      ]
     },
     "execution_count": 220,
     "metadata": {},
     "output_type": "execute_result"
    }
   ],
   "source": [
    "pn1"
   ]
  },
  {
   "cell_type": "code",
   "execution_count": 217,
   "id": "ba9ded07",
   "metadata": {},
   "outputs": [
    {
     "data": {
      "text/plain": [
       "0    0.970640\n",
       "1    0.014365\n",
       "2    0.014365\n",
       "3    0.000310\n",
       "dtype: float64"
      ]
     },
     "execution_count": 217,
     "metadata": {},
     "output_type": "execute_result"
    }
   ],
   "source": [
    "n12_marg"
   ]
  },
  {
   "cell_type": "code",
   "execution_count": null,
   "id": "80dac175",
   "metadata": {},
   "outputs": [],
   "source": []
  }
 ],
 "metadata": {
  "kernelspec": {
   "display_name": "Python 3",
   "language": "python",
   "name": "python3"
  },
  "language_info": {
   "codemirror_mode": {
    "name": "ipython",
    "version": 3
   },
   "file_extension": ".py",
   "mimetype": "text/x-python",
   "name": "python",
   "nbconvert_exporter": "python",
   "pygments_lexer": "ipython3",
   "version": "3.8.8"
  }
 },
 "nbformat": 4,
 "nbformat_minor": 5
}
